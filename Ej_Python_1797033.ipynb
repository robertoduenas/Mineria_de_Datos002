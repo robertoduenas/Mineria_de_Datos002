{
 "cells": [
  {
   "cell_type": "markdown",
   "metadata": {},
   "source": [
    "## Ejercicio 1:\n",
    "Realiza una variable con tu matrícula y realiza una secuencia de imprimir con tu nombre y tu matricula concatenados"
   ]
  },
  {
   "cell_type": "code",
   "execution_count": 1,
   "metadata": {},
   "outputs": [
    {
     "name": "stdout",
     "output_type": "stream",
     "text": [
      "Tu nombre es Roberto Eduardo Herrera Dueñas y tu matrícula es 1797033\n"
     ]
    }
   ],
   "source": [
    "nom = \"Roberto Eduardo Herrera Dueñas\"\n",
    "mat = 1797033\n",
    "\n",
    "print(\"Tu nombre es %s y tu matrícula es %d\" %(nom,mat))"
   ]
  },
  {
   "cell_type": "markdown",
   "metadata": {},
   "source": [
    "## Ejercicio 2:\n",
    "Pidiendo el input del usuario, pide dos números y crea una pequeña calculadora con los operadores básicos de suma, resta, multiplicación, división y exponente. "
   ]
  },
  {
   "cell_type": "code",
   "execution_count": 2,
   "metadata": {},
   "outputs": [
    {
     "name": "stdout",
     "output_type": "stream",
     "text": [
      "Ingresa primer número: 8\n",
      "Ingresa segundo número: 6\n",
      "La suma es 14, la resta es 2, la multiplicación es 48, la división es 1.33 y el exponente es 262144\n"
     ]
    }
   ],
   "source": [
    "a = int(input(\"Ingresa primer número: \"))\n",
    "b = int(input(\"Ingresa segundo número: \"))\n",
    "\n",
    "suma = a + b\n",
    "res = a - b\n",
    "mult = a*b\n",
    "div = a/b\n",
    "exp = a**b\n",
    "\n",
    "print(\"La suma es %d, la resta es %d, la multiplicación es %d, la división es %.2f y el exponente es %d\" %(suma,res,mult,div,exp))"
   ]
  },
  {
   "cell_type": "markdown",
   "metadata": {},
   "source": [
    "## Ejercicio 3:\n",
    "Con loop while o for, realiza una lista de 10 números múltiplos de 3, y después realiza una función de loop que sume todos los números dentro del arreglo."
   ]
  },
  {
   "cell_type": "code",
   "execution_count": 3,
   "metadata": {},
   "outputs": [
    {
     "name": "stdout",
     "output_type": "stream",
     "text": [
      "3\n",
      "6\n",
      "9\n",
      "12\n",
      "15\n",
      "18\n",
      "21\n",
      "24\n",
      "27\n",
      "30\n",
      "La suma de los múltiplos es: 165\n"
     ]
    }
   ],
   "source": [
    "aux = 0\n",
    "for i in range(1,31):\n",
    "    r = i%3\n",
    "    if r==0:\n",
    "        print(i)\n",
    "        aux = i + aux\n",
    "\n",
    "print(\"La suma de los múltiplos es: %d\" %(aux))\n"
   ]
  },
  {
   "cell_type": "markdown",
   "metadata": {},
   "source": [
    "## Ejercicio 4:\n",
    "* Con una función de if else, revisar si un número es par o es impar.\n",
    "* Con una función de if else, revisar si un número es primo o no."
   ]
  },
  {
   "cell_type": "code",
   "execution_count": 4,
   "metadata": {},
   "outputs": [
    {
     "name": "stdout",
     "output_type": "stream",
     "text": [
      "Ingresa número: 45\n",
      "El número 45 es impar\n",
      "El número 45 no es primo\n"
     ]
    },
    {
     "data": {
      "text/plain": [
       "False"
      ]
     },
     "execution_count": 4,
     "metadata": {},
     "output_type": "execute_result"
    }
   ],
   "source": [
    "a = int(input(\"Ingresa número: \"))\n",
    "b = a%2\n",
    "if b==0:\n",
    "    print(\"El número %d es par\" %(a))\n",
    "else:\n",
    "    print(\"El número %d es impar\" %(a))\n",
    "def primo(a):\n",
    "    for x in range(2, a):\n",
    "        if a % x == 0:\n",
    "            print(\"El número %d no es primo\"%(a))\n",
    "            return False\n",
    "    print(\"El número %d es primo\"%(a))\n",
    "    return True\n",
    "primo(a)"
   ]
  },
  {
   "cell_type": "markdown",
   "metadata": {},
   "source": [
    "## Ejercicio 5:\n",
    "Utilizando diferentes clases de python, crea una calculadora con los operadores básicos de suma, resta, multiplicación, división, y exponente."
   ]
  },
  {
   "cell_type": "code",
   "execution_count": 5,
   "metadata": {},
   "outputs": [
    {
     "name": "stdout",
     "output_type": "stream",
     "text": [
      "11\n",
      "-1\n",
      "30\n",
      "0.8333333333333334\n",
      "15625\n"
     ]
    }
   ],
   "source": [
    "def suma(a,b):\n",
    "    print (a + b)\n",
    "def resta(a,b):\n",
    "    print(a-b)\n",
    "def mult(a,b):\n",
    "    print (a*b)\n",
    "def div(a,b):\n",
    "    print(a/b)\n",
    "def exp(a,b):\n",
    "    print(a**b)\n",
    "\n",
    "suma(5,6)\n",
    "resta(5,6)\n",
    "mult(5,6)\n",
    "div(5,6)\n",
    "exp(5,6)"
   ]
  },
  {
   "cell_type": "markdown",
   "metadata": {},
   "source": [
    "## Ejercicios con estructuras básicas de python.\n",
    "#### Tuplas"
   ]
  },
  {
   "cell_type": "markdown",
   "metadata": {},
   "source": [
    "* Crea una variable flotante, integer, boleana y compleja e imprimir el tipo de variable que es"
   ]
  },
  {
   "cell_type": "code",
   "execution_count": 6,
   "metadata": {},
   "outputs": [
    {
     "name": "stdout",
     "output_type": "stream",
     "text": [
      "a es tipo: <class 'float'>\n",
      "b es tipo: <class 'int'>\n",
      "c es tipo: <class 'bool'>\n",
      "d es tipo: <class 'complex'>\n"
     ]
    }
   ],
   "source": [
    "a = float(35.41)\n",
    "b = int(47)\n",
    "c = bool(1>10)\n",
    "d = complex(4)\n",
    "print(\"a es tipo:\", type(a))\n",
    "print(\"b es tipo:\", type(b))\n",
    "print(\"c es tipo:\", type(c))\n",
    "print(\"d es tipo:\", type(d))"
   ]
  },
  {
   "cell_type": "markdown",
   "metadata": {},
   "source": [
    "* Crear una tupla con valores enteros, imprimir el primer y último valor\n",
    "* Añadir 3 valores de string a la tupla\n",
    "* Verificar si una variable existe dentro de la tupla"
   ]
  },
  {
   "cell_type": "code",
   "execution_count": 7,
   "metadata": {},
   "outputs": [
    {
     "name": "stdout",
     "output_type": "stream",
     "text": [
      "40 87\n",
      "True\n"
     ]
    }
   ],
   "source": [
    "enteros = (40,21,45,36,87)\n",
    "print(enteros[0], enteros[4])\n",
    "enteros = (40, 'Hola', 21, 45, 'Que', 36, 87, 'Haces')\n",
    "print('Hola' in enteros)"
   ]
  },
  {
   "cell_type": "markdown",
   "metadata": {},
   "source": [
    "#### Listas\n",
    "* Crear una lista con 40 elementos aleatorios enteros.\n",
    "* Con una funcion (def) crear dos listas nuevas a partir de la lista creada por numeros aleatorios, en la cual en una esten los elementos pares, y en la otra los elementos impares.\n",
    "* Crear dos variables con la longitud de ambas listas nuevas e imprimir las variables.\n",
    "* Ordenar los elementos de la lista par de mayor a menor, y los de la lista impar de menor a mayor.\n",
    "* Utilizar al menos cuatro de las funciones de listas en python en la lista original de 40 elementos."
   ]
  },
  {
   "cell_type": "code",
   "execution_count": 8,
   "metadata": {},
   "outputs": [
    {
     "name": "stdout",
     "output_type": "stream",
     "text": [
      "[83, 47, 59, 57, 85, 7, 72, 90, 74, 91, 67, 79, 31, 23, 45, 16, 2, 65, 21, 8, 64, 80, 56, 18, 20, 9, 25, 53, 75, 71, 26, 73, 70, 87, 66, 97, 1, 58, 94, 5]\n",
      "[1, 5, 7, 9, 21, 23, 25, 31, 45, 47, 53, 57, 59, 65, 67, 71, 73, 75, 79, 83, 85, 87, 91, 97]\n",
      "[94, 90, 80, 74, 72, 70, 66, 64, 58, 56, 26, 20, 18, 16, 8, 2]\n"
     ]
    }
   ],
   "source": [
    "import random as r\n",
    "lista = range(1,100)\n",
    "a = (r.sample(lista,40))\n",
    "print(a)\n",
    "def impar(a):\n",
    "    lis=[]\n",
    "    for x in range(len(a)):\n",
    "        if a[x]%2:\n",
    "            lis.append(a[x])\n",
    "    return lis\n",
    "\n",
    "def par(a):\n",
    "    li=[]\n",
    "    for x in range(len(a)):\n",
    "        b= a[x]%2\n",
    "        if b==0:\n",
    "            li.append(a[x])\n",
    "    return li\n",
    "\n",
    "listaimp= impar(a)\n",
    "listapar= par(a)\n",
    "listaimp.sort()\n",
    "listapar.sort(reverse=True)\n",
    "print(listaimp)\n",
    "print(listapar)\n",
    "\n",
    "\n"
   ]
  },
  {
   "cell_type": "markdown",
   "metadata": {},
   "source": [
    "#### Diccionarios\n",
    "* Crear un diccionario de 6 personas que conozcas con su primer nombre y su edad.\n",
    "* Crear una lista con los valores de la edad y reacomodar la lista de menor a mayor valor.\n",
    "* Usando el diccionario y un loop, imprimir solo los nombres.\n",
    "* Añadir dos personas nuevas a tu diccionario, incluyendo edad."
   ]
  },
  {
   "cell_type": "code",
   "execution_count": 9,
   "metadata": {},
   "outputs": [
    {
     "name": "stdout",
     "output_type": "stream",
     "text": [
      "[2, 3, 19, 28, 53, 55, 57, 60]\n",
      "Roberto\n",
      "Monica\n",
      "Brenda\n",
      "Diego\n",
      "Duke\n",
      "Jack\n",
      "Silvia\n",
      "Piedad\n"
     ]
    }
   ],
   "source": [
    "diccionario = {'Nombre': ['Roberto','Monica','Brenda','Diego','Duke','Jack','Silvia','Piedad'], 'Edad':[60,53,28,19,2,3,57,55]}\n",
    "lista = diccionario['Edad']\n",
    "lista.sort()\n",
    "print(lista)\n",
    "for x in range(len(diccionario['Nombre'])):\n",
    "    print(diccionario['Nombre'][x])\n"
   ]
  },
  {
   "cell_type": "markdown",
   "metadata": {},
   "source": [
    "#### Sets\n",
    "* Crea un set con 100 numeros aleatorios enteros del 1 al 25.\n",
    "* Comprueba la longitud de tu set.\n",
    "* Crea una lista de 5 numeros aleatorios del 1 al 10 y comprueba si cada valor aparece en el set inicial."
   ]
  },
  {
   "cell_type": "code",
   "execution_count": 23,
   "metadata": {},
   "outputs": [
    {
     "name": "stdout",
     "output_type": "stream",
     "text": [
      "{1, 2, 3, 4, 5, 6, 7, 8, 9, 10, 11, 12, 13, 14, 15, 16, 17, 18, 19, 20, 21, 22, 23, 24, 25}\n",
      "La longitud del set es de 25\n",
      "[3, 2, 6, 9, 1]\n",
      "True\n",
      "True\n",
      "True\n",
      "True\n",
      "True\n"
     ]
    }
   ],
   "source": [
    "import random as r\n",
    "s1 = set()\n",
    "i=0\n",
    "while i < 100:\n",
    "    s1.add(r.randint(1,25))\n",
    "    i = i+1\n",
    "print(s1)\n",
    "len(s1)\n",
    "print(\"La longitud del set es de %d\"%(len(s1)))\n",
    "\n",
    "b = range(1,11)\n",
    "lista = (r.sample(b,5))\n",
    "print(lista)\n",
    "\n",
    "for x in range(len(lista)):\n",
    "    print(x+1 in s1)"
   ]
  },
  {
   "cell_type": "code",
   "execution_count": null,
   "metadata": {},
   "outputs": [],
   "source": []
  }
 ],
 "metadata": {
  "kernelspec": {
   "display_name": "Python 3",
   "language": "python",
   "name": "python3"
  },
  "language_info": {
   "codemirror_mode": {
    "name": "ipython",
    "version": 3
   },
   "file_extension": ".py",
   "mimetype": "text/x-python",
   "name": "python",
   "nbconvert_exporter": "python",
   "pygments_lexer": "ipython3",
   "version": "3.8.5"
  }
 },
 "nbformat": 4,
 "nbformat_minor": 4
}
